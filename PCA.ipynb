{
 "cells": [
  {
   "cell_type": "code",
   "execution_count": null,
   "metadata": {},
   "outputs": [],
   "source": [
    "import numpy as np\n",
    "\n",
    "import torch\n",
    "import torch.nn as nn\n",
    "\n",
    "import torchvision\n",
    "import torchvision.transforms as T\n",
    "\n",
    "from barlow_twins import BarlowTwins\n",
    "\n",
    "from augmentation import apply_transforms_inf\n",
    "from short_video_dataset import ShortVideoDataset"
   ]
  },
  {
   "cell_type": "code",
   "execution_count": null,
   "metadata": {},
   "outputs": [],
   "source": [
    "model = torch.load('model.pth')"
   ]
  },
  {
   "cell_type": "code",
   "execution_count": null,
   "metadata": {},
   "outputs": [],
   "source": [
    "device = \"cuda\" if torch.cuda.is_available() else \"cpu\"\n",
    "print(device)\n",
    "model.to(device)"
   ]
  },
  {
   "cell_type": "code",
   "execution_count": null,
   "metadata": {},
   "outputs": [],
   "source": [
    "dataset = ShortVideoDataset('video_short_half_res', transform=T.Compose([\n",
    "    T.ToTensor(),\n",
    "    T.CenterCrop(size=720)\n",
    "]))\n",
    "\n",
    "dataloader = torch.utils.data.DataLoader(\n",
    "    dataset,\n",
    "    batch_size=1,\n",
    "    shuffle=False,\n",
    "    # drop_last=True,\n",
    "    num_workers=1,\n",
    ")"
   ]
  },
  {
   "cell_type": "code",
   "execution_count": null,
   "metadata": {},
   "outputs": [],
   "source": [
    "embeddings = []\n",
    "\n",
    "model.eval()\n",
    "for image in dataloader:\n",
    "    image = apply_transforms_inf(image).to(device)\n",
    "    emb = model(image).cpu().detach().flatten()\n",
    "\n",
    "    embeddings.append(np.array(emb))"
   ]
  },
  {
   "cell_type": "code",
   "execution_count": null,
   "metadata": {},
   "outputs": [],
   "source": [
    "len(embeddings)"
   ]
  },
  {
   "cell_type": "code",
   "execution_count": null,
   "metadata": {},
   "outputs": [],
   "source": [
    "embeddings = np.array(embeddings)"
   ]
  },
  {
   "cell_type": "markdown",
   "metadata": {},
   "source": [
    "## PCA"
   ]
  },
  {
   "cell_type": "code",
   "execution_count": null,
   "metadata": {},
   "outputs": [],
   "source": [
    "from sklearn.decomposition import PCA"
   ]
  },
  {
   "cell_type": "code",
   "execution_count": null,
   "metadata": {},
   "outputs": [],
   "source": [
    "pca = PCA(n_components=2)\n",
    "pca.fit(embeddings)\n",
    "\n",
    "embeddings_red = pca.transform(embeddings)\n",
    "X, Y = embeddings_red[:,0], embeddings_red[:,1]"
   ]
  },
  {
   "cell_type": "code",
   "execution_count": null,
   "metadata": {},
   "outputs": [],
   "source": [
    "import matplotlib.pyplot as plt"
   ]
  },
  {
   "cell_type": "code",
   "execution_count": null,
   "metadata": {},
   "outputs": [],
   "source": [
    "plt.scatter(X, Y)"
   ]
  },
  {
   "cell_type": "code",
   "execution_count": null,
   "metadata": {},
   "outputs": [],
   "source": [
    "X_sorted = sorted(list(zip(X, range(len(X)))), key= lambda x: x[0])"
   ]
  },
  {
   "cell_type": "markdown",
   "metadata": {},
   "source": [
    "## Nearest Neighbours"
   ]
  },
  {
   "cell_type": "code",
   "execution_count": null,
   "metadata": {},
   "outputs": [],
   "source": [
    "from sklearn.neighbors import NearestNeighbors\n",
    "from mpl_toolkits.axes_grid1 import ImageGrid"
   ]
  },
  {
   "cell_type": "code",
   "execution_count": null,
   "metadata": {},
   "outputs": [],
   "source": [
    "neigh = NearestNeighbors(n_neighbors=10)\n",
    "neigh.fit(embeddings)"
   ]
  },
  {
   "cell_type": "code",
   "execution_count": null,
   "metadata": {},
   "outputs": [],
   "source": [
    "random_index = np.random.randint(len(embeddings))\n",
    "neigh.kneighbors(embeddings[random_index].reshape(1,-1), 10, return_distance=False)"
   ]
  },
  {
   "cell_type": "code",
   "execution_count": null,
   "metadata": {},
   "outputs": [],
   "source": [
    "num_samples = 10\n",
    "num_neighb = 5\n",
    "\n",
    "fig = plt.figure(figsize=(20,20))\n",
    "grid = ImageGrid(fig, 111, nrows_ncols=(10,num_neighb), axes_pad=0.1)\n",
    "\n",
    "for r in range(num_samples):\n",
    "    random_index = np.random.randint(len(embeddings))\n",
    "    neighb_index = neigh.kneighbors(embeddings[random_index].reshape(1,-1), num_neighb, return_distance=False)\n",
    "\n",
    "    for c in range(len(neighb_index[0])):\n",
    "        im = dataset.__getitem__(neighb_index[0][c])\n",
    "        im = im.swapaxes(0,-1).swapaxes(0,1)\n",
    "        grid[num_neighb*r+c].imshow(im, )\n"
   ]
  },
  {
   "cell_type": "code",
   "execution_count": null,
   "metadata": {},
   "outputs": [],
   "source": [
    "X_sorted"
   ]
  },
  {
   "cell_type": "code",
   "execution_count": null,
   "metadata": {},
   "outputs": [],
   "source": [
    "fig = plt.figure(figsize=(200,200))\n",
    "grid = ImageGrid(fig, 111, nrows_ncols=(100, 5), axes_pad=0.1)\n",
    "\n",
    "for ax, (_, i) in zip(grid, X_sorted):\n",
    "    im = dataset.__getitem__(i)\n",
    "    im = im.swapaxes(0,-1).swapaxes(0,1)\n",
    "    ax.imshow(im)"
   ]
  }
 ],
 "metadata": {
  "kernelspec": {
   "display_name": "Python 3.9.13 ('base')",
   "language": "python",
   "name": "python3"
  },
  "language_info": {
   "codemirror_mode": {
    "name": "ipython",
    "version": 3
   },
   "file_extension": ".py",
   "mimetype": "text/x-python",
   "name": "python",
   "nbconvert_exporter": "python",
   "pygments_lexer": "ipython3",
   "version": "3.9.13"
  },
  "orig_nbformat": 4,
  "vscode": {
   "interpreter": {
    "hash": "5af30e9e16ef45cf56fe7212a84c27a65c36d6841edf0bd9661d40f4090c043c"
   }
  }
 },
 "nbformat": 4,
 "nbformat_minor": 2
}
